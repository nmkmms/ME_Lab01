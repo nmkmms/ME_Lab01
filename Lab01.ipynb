{
 "cells": [
  {
   "cell_type": "markdown",
   "metadata": {},
   "source": [
    "## Імпорт бібліотек"
   ]
  },
  {
   "cell_type": "code",
   "execution_count": 341,
   "metadata": {
    "scrolled": true
   },
   "outputs": [
    {
     "name": "stdout",
     "output_type": "stream",
     "text": [
      "Requirement already satisfied: numpy in /Users/ilya/anaconda3/lib/python3.8/site-packages (1.19.2)\n",
      "Requirement already satisfied: pandas in /Users/ilya/anaconda3/lib/python3.8/site-packages (1.1.3)\n",
      "Requirement already satisfied: yfinance in /Users/ilya/anaconda3/lib/python3.8/site-packages (0.1.55)\n",
      "Requirement already satisfied: matplotlib in /Users/ilya/anaconda3/lib/python3.8/site-packages (3.3.2)\n",
      "Requirement already satisfied: python-dateutil>=2.7.3 in /Users/ilya/anaconda3/lib/python3.8/site-packages (from pandas) (2.8.1)\n",
      "Requirement already satisfied: pytz>=2017.2 in /Users/ilya/anaconda3/lib/python3.8/site-packages (from pandas) (2020.1)\n",
      "Requirement already satisfied: multitasking>=0.0.7 in /Users/ilya/anaconda3/lib/python3.8/site-packages (from yfinance) (0.0.9)\n",
      "Requirement already satisfied: requests>=2.20 in /Users/ilya/anaconda3/lib/python3.8/site-packages (from yfinance) (2.24.0)\n",
      "Requirement already satisfied: lxml>=4.5.1 in /Users/ilya/anaconda3/lib/python3.8/site-packages (from yfinance) (4.6.1)\n",
      "Requirement already satisfied: kiwisolver>=1.0.1 in /Users/ilya/anaconda3/lib/python3.8/site-packages (from matplotlib) (1.3.0)\n",
      "Requirement already satisfied: certifi>=2020.06.20 in /Users/ilya/anaconda3/lib/python3.8/site-packages (from matplotlib) (2020.6.20)\n",
      "Requirement already satisfied: cycler>=0.10 in /Users/ilya/anaconda3/lib/python3.8/site-packages (from matplotlib) (0.10.0)\n",
      "Requirement already satisfied: pillow>=6.2.0 in /Users/ilya/anaconda3/lib/python3.8/site-packages (from matplotlib) (8.0.1)\n",
      "Requirement already satisfied: pyparsing!=2.0.4,!=2.1.2,!=2.1.6,>=2.0.3 in /Users/ilya/anaconda3/lib/python3.8/site-packages (from matplotlib) (2.4.7)\n",
      "Requirement already satisfied: six>=1.5 in /Users/ilya/anaconda3/lib/python3.8/site-packages (from python-dateutil>=2.7.3->pandas) (1.15.0)\n",
      "Requirement already satisfied: chardet<4,>=3.0.2 in /Users/ilya/anaconda3/lib/python3.8/site-packages (from requests>=2.20->yfinance) (3.0.4)\n",
      "Requirement already satisfied: idna<3,>=2.5 in /Users/ilya/anaconda3/lib/python3.8/site-packages (from requests>=2.20->yfinance) (2.10)\n",
      "Requirement already satisfied: urllib3!=1.25.0,!=1.25.1,<1.26,>=1.21.1 in /Users/ilya/anaconda3/lib/python3.8/site-packages (from requests>=2.20->yfinance) (1.25.11)\n"
     ]
    }
   ],
   "source": [
    "# Завантаження\n",
    "import sys\n",
    "!{sys.executable} -m pip install numpy pandas yfinance matplotlib"
   ]
  },
  {
   "cell_type": "code",
   "execution_count": 2,
   "metadata": {
    "scrolled": true
   },
   "outputs": [],
   "source": [
    "import numpy as np\n",
    "import yfinance as yf\n",
    "from matplotlib import pyplot as plt"
   ]
  },
  {
   "cell_type": "markdown",
   "metadata": {},
   "source": [
    "## Завантаження даних і їх відображення"
   ]
  },
  {
   "cell_type": "code",
   "execution_count": 3,
   "metadata": {},
   "outputs": [],
   "source": [
    "# boeing = pd.read_csv('BA.csv')\n",
    "# gspc = pd.read_csv('^GSPC.csv')\n",
    "boeing = yf.Ticker('BA').history(period='10y', interval='1mo').dropna(axis=0)\n",
    "gspc = yf.Ticker('^GSPC').history(period='10y', interval='1mo')"
   ]
  },
  {
   "cell_type": "code",
   "execution_count": 4,
   "metadata": {
    "scrolled": false
   },
   "outputs": [
    {
     "data": {
      "text/html": [
       "<div>\n",
       "<style scoped>\n",
       "    .dataframe tbody tr th:only-of-type {\n",
       "        vertical-align: middle;\n",
       "    }\n",
       "\n",
       "    .dataframe tbody tr th {\n",
       "        vertical-align: top;\n",
       "    }\n",
       "\n",
       "    .dataframe thead th {\n",
       "        text-align: right;\n",
       "    }\n",
       "</style>\n",
       "<table border=\"1\" class=\"dataframe\">\n",
       "  <thead>\n",
       "    <tr style=\"text-align: right;\">\n",
       "      <th></th>\n",
       "      <th>Open</th>\n",
       "      <th>High</th>\n",
       "      <th>Low</th>\n",
       "      <th>Close</th>\n",
       "      <th>Volume</th>\n",
       "      <th>Dividends</th>\n",
       "      <th>Stock Splits</th>\n",
       "    </tr>\n",
       "    <tr>\n",
       "      <th>Date</th>\n",
       "      <th></th>\n",
       "      <th></th>\n",
       "      <th></th>\n",
       "      <th></th>\n",
       "      <th></th>\n",
       "      <th></th>\n",
       "      <th></th>\n",
       "    </tr>\n",
       "  </thead>\n",
       "  <tbody>\n",
       "    <tr>\n",
       "      <th>2011-02-01</th>\n",
       "      <td>55.481328</td>\n",
       "      <td>58.881541</td>\n",
       "      <td>55.164290</td>\n",
       "      <td>57.074436</td>\n",
       "      <td>91690200.0</td>\n",
       "      <td>0.0</td>\n",
       "      <td>0</td>\n",
       "    </tr>\n",
       "    <tr>\n",
       "      <th>2011-03-01</th>\n",
       "      <td>57.342244</td>\n",
       "      <td>59.367120</td>\n",
       "      <td>53.683115</td>\n",
       "      <td>58.936634</td>\n",
       "      <td>119791900.0</td>\n",
       "      <td>0.0</td>\n",
       "      <td>0</td>\n",
       "    </tr>\n",
       "    <tr>\n",
       "      <th>2011-04-01</th>\n",
       "      <td>59.223628</td>\n",
       "      <td>64.046655</td>\n",
       "      <td>56.505189</td>\n",
       "      <td>63.600227</td>\n",
       "      <td>95129600.0</td>\n",
       "      <td>0.0</td>\n",
       "      <td>0</td>\n",
       "    </tr>\n",
       "    <tr>\n",
       "      <th>2011-05-01</th>\n",
       "      <td>64.054632</td>\n",
       "      <td>64.293793</td>\n",
       "      <td>59.893272</td>\n",
       "      <td>62.205139</td>\n",
       "      <td>87491500.0</td>\n",
       "      <td>0.0</td>\n",
       "      <td>0</td>\n",
       "    </tr>\n",
       "    <tr>\n",
       "      <th>2011-06-01</th>\n",
       "      <td>62.469529</td>\n",
       "      <td>62.589741</td>\n",
       "      <td>56.330769</td>\n",
       "      <td>59.247883</td>\n",
       "      <td>103740100.0</td>\n",
       "      <td>0.0</td>\n",
       "      <td>0</td>\n",
       "    </tr>\n",
       "    <tr>\n",
       "      <th>...</th>\n",
       "      <td>...</td>\n",
       "      <td>...</td>\n",
       "      <td>...</td>\n",
       "      <td>...</td>\n",
       "      <td>...</td>\n",
       "      <td>...</td>\n",
       "      <td>...</td>\n",
       "    </tr>\n",
       "    <tr>\n",
       "      <th>2020-10-01</th>\n",
       "      <td>170.149994</td>\n",
       "      <td>175.559998</td>\n",
       "      <td>141.580002</td>\n",
       "      <td>144.389999</td>\n",
       "      <td>422001900.0</td>\n",
       "      <td>0.0</td>\n",
       "      <td>0</td>\n",
       "    </tr>\n",
       "    <tr>\n",
       "      <th>2020-11-01</th>\n",
       "      <td>145.750000</td>\n",
       "      <td>223.020004</td>\n",
       "      <td>143.380005</td>\n",
       "      <td>210.710007</td>\n",
       "      <td>526599500.0</td>\n",
       "      <td>0.0</td>\n",
       "      <td>0</td>\n",
       "    </tr>\n",
       "    <tr>\n",
       "      <th>2020-12-01</th>\n",
       "      <td>214.309998</td>\n",
       "      <td>244.080002</td>\n",
       "      <td>210.300003</td>\n",
       "      <td>214.059998</td>\n",
       "      <td>409410400.0</td>\n",
       "      <td>0.0</td>\n",
       "      <td>0</td>\n",
       "    </tr>\n",
       "    <tr>\n",
       "      <th>2021-01-01</th>\n",
       "      <td>210.000000</td>\n",
       "      <td>216.600006</td>\n",
       "      <td>201.009995</td>\n",
       "      <td>204.320007</td>\n",
       "      <td>147054100.0</td>\n",
       "      <td>0.0</td>\n",
       "      <td>0</td>\n",
       "    </tr>\n",
       "    <tr>\n",
       "      <th>2021-01-15</th>\n",
       "      <td>208.960007</td>\n",
       "      <td>209.250000</td>\n",
       "      <td>204.199997</td>\n",
       "      <td>204.320007</td>\n",
       "      <td>10630542.0</td>\n",
       "      <td>0.0</td>\n",
       "      <td>0</td>\n",
       "    </tr>\n",
       "  </tbody>\n",
       "</table>\n",
       "<p>121 rows × 7 columns</p>\n",
       "</div>"
      ],
      "text/plain": [
       "                  Open        High         Low       Close       Volume  \\\n",
       "Date                                                                      \n",
       "2011-02-01   55.481328   58.881541   55.164290   57.074436   91690200.0   \n",
       "2011-03-01   57.342244   59.367120   53.683115   58.936634  119791900.0   \n",
       "2011-04-01   59.223628   64.046655   56.505189   63.600227   95129600.0   \n",
       "2011-05-01   64.054632   64.293793   59.893272   62.205139   87491500.0   \n",
       "2011-06-01   62.469529   62.589741   56.330769   59.247883  103740100.0   \n",
       "...                ...         ...         ...         ...          ...   \n",
       "2020-10-01  170.149994  175.559998  141.580002  144.389999  422001900.0   \n",
       "2020-11-01  145.750000  223.020004  143.380005  210.710007  526599500.0   \n",
       "2020-12-01  214.309998  244.080002  210.300003  214.059998  409410400.0   \n",
       "2021-01-01  210.000000  216.600006  201.009995  204.320007  147054100.0   \n",
       "2021-01-15  208.960007  209.250000  204.199997  204.320007   10630542.0   \n",
       "\n",
       "            Dividends  Stock Splits  \n",
       "Date                                 \n",
       "2011-02-01        0.0             0  \n",
       "2011-03-01        0.0             0  \n",
       "2011-04-01        0.0             0  \n",
       "2011-05-01        0.0             0  \n",
       "2011-06-01        0.0             0  \n",
       "...               ...           ...  \n",
       "2020-10-01        0.0             0  \n",
       "2020-11-01        0.0             0  \n",
       "2020-12-01        0.0             0  \n",
       "2021-01-01        0.0             0  \n",
       "2021-01-15        0.0             0  \n",
       "\n",
       "[121 rows x 7 columns]"
      ]
     },
     "execution_count": 4,
     "metadata": {},
     "output_type": "execute_result"
    }
   ],
   "source": [
    "boeing"
   ]
  },
  {
   "cell_type": "code",
   "execution_count": 5,
   "metadata": {
    "scrolled": false
   },
   "outputs": [
    {
     "data": {
      "text/html": [
       "<div>\n",
       "<style scoped>\n",
       "    .dataframe tbody tr th:only-of-type {\n",
       "        vertical-align: middle;\n",
       "    }\n",
       "\n",
       "    .dataframe tbody tr th {\n",
       "        vertical-align: top;\n",
       "    }\n",
       "\n",
       "    .dataframe thead th {\n",
       "        text-align: right;\n",
       "    }\n",
       "</style>\n",
       "<table border=\"1\" class=\"dataframe\">\n",
       "  <thead>\n",
       "    <tr style=\"text-align: right;\">\n",
       "      <th></th>\n",
       "      <th>Open</th>\n",
       "      <th>High</th>\n",
       "      <th>Low</th>\n",
       "      <th>Close</th>\n",
       "      <th>Volume</th>\n",
       "      <th>Dividends</th>\n",
       "      <th>Stock Splits</th>\n",
       "    </tr>\n",
       "    <tr>\n",
       "      <th>Date</th>\n",
       "      <th></th>\n",
       "      <th></th>\n",
       "      <th></th>\n",
       "      <th></th>\n",
       "      <th></th>\n",
       "      <th></th>\n",
       "      <th></th>\n",
       "    </tr>\n",
       "  </thead>\n",
       "  <tbody>\n",
       "    <tr>\n",
       "      <th>2011-02-01</th>\n",
       "      <td>1289.140015</td>\n",
       "      <td>1344.069946</td>\n",
       "      <td>1289.140015</td>\n",
       "      <td>1327.219971</td>\n",
       "      <td>59223660000</td>\n",
       "      <td>0</td>\n",
       "      <td>0</td>\n",
       "    </tr>\n",
       "    <tr>\n",
       "      <th>2011-03-01</th>\n",
       "      <td>1328.640015</td>\n",
       "      <td>1332.280029</td>\n",
       "      <td>1249.050049</td>\n",
       "      <td>1325.829956</td>\n",
       "      <td>89507640000</td>\n",
       "      <td>0</td>\n",
       "      <td>0</td>\n",
       "    </tr>\n",
       "    <tr>\n",
       "      <th>2011-04-01</th>\n",
       "      <td>1329.479980</td>\n",
       "      <td>1364.560059</td>\n",
       "      <td>1294.699951</td>\n",
       "      <td>1363.609985</td>\n",
       "      <td>77364810000</td>\n",
       "      <td>0</td>\n",
       "      <td>0</td>\n",
       "    </tr>\n",
       "    <tr>\n",
       "      <th>2011-05-01</th>\n",
       "      <td>1365.209961</td>\n",
       "      <td>1370.579956</td>\n",
       "      <td>1311.800049</td>\n",
       "      <td>1345.199951</td>\n",
       "      <td>81708980000</td>\n",
       "      <td>0</td>\n",
       "      <td>0</td>\n",
       "    </tr>\n",
       "    <tr>\n",
       "      <th>2011-06-01</th>\n",
       "      <td>1345.199951</td>\n",
       "      <td>1345.199951</td>\n",
       "      <td>1258.069946</td>\n",
       "      <td>1320.640015</td>\n",
       "      <td>86122730000</td>\n",
       "      <td>0</td>\n",
       "      <td>0</td>\n",
       "    </tr>\n",
       "    <tr>\n",
       "      <th>...</th>\n",
       "      <td>...</td>\n",
       "      <td>...</td>\n",
       "      <td>...</td>\n",
       "      <td>...</td>\n",
       "      <td>...</td>\n",
       "      <td>...</td>\n",
       "      <td>...</td>\n",
       "    </tr>\n",
       "    <tr>\n",
       "      <th>2020-10-01</th>\n",
       "      <td>3385.870117</td>\n",
       "      <td>3549.850098</td>\n",
       "      <td>3233.939941</td>\n",
       "      <td>3269.959961</td>\n",
       "      <td>89737600000</td>\n",
       "      <td>0</td>\n",
       "      <td>0</td>\n",
       "    </tr>\n",
       "    <tr>\n",
       "      <th>2020-11-01</th>\n",
       "      <td>3296.199951</td>\n",
       "      <td>3645.989990</td>\n",
       "      <td>3279.739990</td>\n",
       "      <td>3621.629883</td>\n",
       "      <td>100977880000</td>\n",
       "      <td>0</td>\n",
       "      <td>0</td>\n",
       "    </tr>\n",
       "    <tr>\n",
       "      <th>2020-12-01</th>\n",
       "      <td>3645.870117</td>\n",
       "      <td>3760.199951</td>\n",
       "      <td>3633.399902</td>\n",
       "      <td>3756.070068</td>\n",
       "      <td>96056410000</td>\n",
       "      <td>0</td>\n",
       "      <td>0</td>\n",
       "    </tr>\n",
       "    <tr>\n",
       "      <th>2021-01-01</th>\n",
       "      <td>3764.610107</td>\n",
       "      <td>3826.689941</td>\n",
       "      <td>3662.709961</td>\n",
       "      <td>3768.250000</td>\n",
       "      <td>50035650000</td>\n",
       "      <td>0</td>\n",
       "      <td>0</td>\n",
       "    </tr>\n",
       "    <tr>\n",
       "      <th>2021-01-15</th>\n",
       "      <td>3788.729980</td>\n",
       "      <td>3788.729980</td>\n",
       "      <td>3749.620117</td>\n",
       "      <td>3768.250000</td>\n",
       "      <td>2744945352</td>\n",
       "      <td>0</td>\n",
       "      <td>0</td>\n",
       "    </tr>\n",
       "  </tbody>\n",
       "</table>\n",
       "<p>121 rows × 7 columns</p>\n",
       "</div>"
      ],
      "text/plain": [
       "                   Open         High          Low        Close        Volume  \\\n",
       "Date                                                                           \n",
       "2011-02-01  1289.140015  1344.069946  1289.140015  1327.219971   59223660000   \n",
       "2011-03-01  1328.640015  1332.280029  1249.050049  1325.829956   89507640000   \n",
       "2011-04-01  1329.479980  1364.560059  1294.699951  1363.609985   77364810000   \n",
       "2011-05-01  1365.209961  1370.579956  1311.800049  1345.199951   81708980000   \n",
       "2011-06-01  1345.199951  1345.199951  1258.069946  1320.640015   86122730000   \n",
       "...                 ...          ...          ...          ...           ...   \n",
       "2020-10-01  3385.870117  3549.850098  3233.939941  3269.959961   89737600000   \n",
       "2020-11-01  3296.199951  3645.989990  3279.739990  3621.629883  100977880000   \n",
       "2020-12-01  3645.870117  3760.199951  3633.399902  3756.070068   96056410000   \n",
       "2021-01-01  3764.610107  3826.689941  3662.709961  3768.250000   50035650000   \n",
       "2021-01-15  3788.729980  3788.729980  3749.620117  3768.250000    2744945352   \n",
       "\n",
       "            Dividends  Stock Splits  \n",
       "Date                                 \n",
       "2011-02-01          0             0  \n",
       "2011-03-01          0             0  \n",
       "2011-04-01          0             0  \n",
       "2011-05-01          0             0  \n",
       "2011-06-01          0             0  \n",
       "...               ...           ...  \n",
       "2020-10-01          0             0  \n",
       "2020-11-01          0             0  \n",
       "2020-12-01          0             0  \n",
       "2021-01-01          0             0  \n",
       "2021-01-15          0             0  \n",
       "\n",
       "[121 rows x 7 columns]"
      ]
     },
     "execution_count": 5,
     "metadata": {},
     "output_type": "execute_result"
    }
   ],
   "source": [
    "gspc"
   ]
  },
  {
   "cell_type": "markdown",
   "metadata": {},
   "source": [
    "## Значення x та y"
   ]
  },
  {
   "cell_type": "code",
   "execution_count": 6,
   "metadata": {},
   "outputs": [],
   "source": [
    "y = (gspc['Open'] + gspc['Close']) / 2\n",
    "x = (boeing['Open'] + boeing['Close']) / 2"
   ]
  },
  {
   "cell_type": "code",
   "execution_count": 7,
   "metadata": {
    "scrolled": true
   },
   "outputs": [
    {
     "data": {
      "text/plain": [
       "Date\n",
       "2011-02-01     56.277882\n",
       "2011-03-01     58.139439\n",
       "2011-04-01     61.411928\n",
       "2011-05-01     63.129885\n",
       "2011-06-01     60.858706\n",
       "                 ...    \n",
       "2020-10-01    157.269997\n",
       "2020-11-01    178.230003\n",
       "2020-12-01    214.184998\n",
       "2021-01-01    207.160004\n",
       "2021-01-15    206.640007\n",
       "Length: 121, dtype: float64"
      ]
     },
     "execution_count": 7,
     "metadata": {},
     "output_type": "execute_result"
    }
   ],
   "source": [
    "x"
   ]
  },
  {
   "cell_type": "code",
   "execution_count": 8,
   "metadata": {},
   "outputs": [
    {
     "data": {
      "text/plain": [
       "Date\n",
       "2011-02-01    1308.179993\n",
       "2011-03-01    1327.234985\n",
       "2011-04-01    1346.544983\n",
       "2011-05-01    1355.204956\n",
       "2011-06-01    1332.919983\n",
       "                 ...     \n",
       "2020-10-01    3327.915039\n",
       "2020-11-01    3458.914917\n",
       "2020-12-01    3700.970093\n",
       "2021-01-01    3766.430054\n",
       "2021-01-15    3778.489990\n",
       "Length: 121, dtype: float64"
      ]
     },
     "execution_count": 8,
     "metadata": {},
     "output_type": "execute_result"
    }
   ],
   "source": [
    "y"
   ]
  },
  {
   "cell_type": "markdown",
   "metadata": {},
   "source": [
    "## Підрахунки вручну"
   ]
  },
  {
   "cell_type": "markdown",
   "metadata": {},
   "source": [
    "### Спочатку знайдемо n (кількість місяців)"
   ]
  },
  {
   "cell_type": "code",
   "execution_count": 9,
   "metadata": {},
   "outputs": [
    {
     "name": "stdout",
     "output_type": "stream",
     "text": [
      "Кількість місяців: 121\n"
     ]
    }
   ],
   "source": [
    "n = len(x)\n",
    "assert n == len(y)\n",
    "\n",
    "print(f'Кількість місяців: {n}')"
   ]
  },
  {
   "cell_type": "markdown",
   "metadata": {},
   "source": [
    "### Середні значення для x та y (і порівняння значень з методом pd.mean() )"
   ]
  },
  {
   "cell_type": "code",
   "execution_count": 10,
   "metadata": {},
   "outputs": [
    {
     "name": "stdout",
     "output_type": "stream",
     "text": [
      "Вручну\t\t\t\t|\tЗа допомогою вбудованого методу\n",
      "---------------------------------------------------------------------------\n",
      "x середнє = 166.46948651628549\t|\tx.mean() = 166.46948651628549\n",
      "y середнє = 2202.04078510379\t|\ty.mean() = 2202.04078510379\n"
     ]
    }
   ],
   "source": [
    "x_mean = x.sum() / n\n",
    "y_mean = y.sum() / n\n",
    "\n",
    "print(f'Вручну\\t\\t\\t\\t|\\tЗа допомогою вбудованого методу\\n' +\n",
    "      '-' * 75 + '\\n' + \n",
    "      f'x середнє = {x_mean}\\t|\\tx.mean() = {x.mean()}\\n' +\n",
    "      f'y середнє = {y_mean}\\t|\\ty.mean() = {y.mean()}')"
   ]
  },
  {
   "cell_type": "markdown",
   "metadata": {},
   "source": [
    "### Варіації x та y (і порівняння значень з методом pd.var() )"
   ]
  },
  {
   "cell_type": "code",
   "execution_count": 25,
   "metadata": {},
   "outputs": [
    {
     "name": "stdout",
     "output_type": "stream",
     "text": [
      "Вручну\t\t\t\t|\tЗа допомогою вбудованого методу\n",
      "---------------------------------------------------------------------------\n",
      "Var(x) = 10828.399991262533\t|\tx.var() = 10918.636657856387\n",
      "Var(y) = 424727.638760094\t|\ty.var() = 428267.03574976145\n"
     ]
    }
   ],
   "source": [
    "x_var = sum((x - x_mean) ** 2) / n\n",
    "y_var = sum((y - y_mean) ** 2) / n\n",
    "\n",
    "print(f'Вручну\\t\\t\\t\\t|\\tЗа допомогою вбудованого методу\\n' +\n",
    "      '-' * 75 + '\\n' +\n",
    "      f'Var(x) = {x_var}\\t|\\tx.var() = {x.var()}\\n'\n",
    "      f'Var(y) = {y_var}\\t|\\ty.var() = {y.var()}')"
   ]
  },
  {
   "cell_type": "markdown",
   "metadata": {},
   "source": [
    "### Коваріація x та y (і порівняння з методом pd.cov(pd) )"
   ]
  },
  {
   "cell_type": "code",
   "execution_count": 12,
   "metadata": {},
   "outputs": [
    {
     "name": "stdout",
     "output_type": "stream",
     "text": [
      "Вручну\t\t\t\t|\tЗа допомогою вбудованого методу\n",
      "---------------------------------------------------------------------------\n",
      "Cov(x, y) = 53020.565273081804\t|\tx.cov(y) = 53462.40331702417\n"
     ]
    }
   ],
   "source": [
    "cov = sum((x - x_mean) * (y - y_mean)) / n\n",
    "\n",
    "print(f'Вручну\\t\\t\\t\\t|\\tЗа допомогою вбудованого методу\\n' +\n",
    "      '-' * 75 + '\\n' +\n",
    "      f'Cov(x, y) = {cov}\\t|\\tx.cov(y) = {x.cov(y)}')"
   ]
  },
  {
   "cell_type": "markdown",
   "metadata": {},
   "source": [
    "### Аргументи a та b для знаходження Y^ = a + bx (і порівняння з методом np.polyfit(x, y, 1) )"
   ]
  },
  {
   "cell_type": "code",
   "execution_count": 13,
   "metadata": {},
   "outputs": [
    {
     "name": "stdout",
     "output_type": "stream",
     "text": [
      "Вручну\t\t\t\t\t\t|\tЗа допомогою вбудованого методу\n",
      "----------------------------------------------------------------------------------------------------\n",
      "b = 4.896435790685997, a = 1386.9336332683297\t|\tb = 4.896435790686, a = 1386.9336332683301\n"
     ]
    }
   ],
   "source": [
    "b = cov / x_var\n",
    "a = y_mean - b * x_mean\n",
    "poly = np.polyfit(x, y, 1)\n",
    "\n",
    "print(f'Вручну\\t\\t\\t\\t\\t\\t|\\tЗа допомогою вбудованого методу\\n' +\n",
    "      '-' * 100 + '\\n' +\n",
    "      f'b = {b}, a = {a}\\t|\\tb = {poly[0]}, a = {poly[1]}')"
   ]
  },
  {
   "cell_type": "markdown",
   "metadata": {},
   "source": [
    "### Y^"
   ]
  },
  {
   "cell_type": "code",
   "execution_count": 14,
   "metadata": {
    "scrolled": true
   },
   "outputs": [
    {
     "data": {
      "text/plain": [
       "Date\n",
       "2011-02-01    1662.494669\n",
       "2011-03-01    1671.609663\n",
       "2011-04-01    1687.633193\n",
       "2011-05-01    1696.045064\n",
       "2011-06-01    1684.924379\n",
       "                 ...     \n",
       "2020-10-01    2156.996074\n",
       "2020-11-01    2259.625401\n",
       "2020-12-01    2435.676721\n",
       "2021-01-01    2401.279290\n",
       "2021-01-15    2398.733159\n",
       "Length: 121, dtype: float64"
      ]
     },
     "execution_count": 14,
     "metadata": {},
     "output_type": "execute_result"
    }
   ],
   "source": [
    "y_hat = a + b * x\n",
    "\n",
    "y_hat"
   ]
  },
  {
   "cell_type": "markdown",
   "metadata": {},
   "source": [
    "### Абсолютна помилка (Absolute error)"
   ]
  },
  {
   "cell_type": "code",
   "execution_count": 15,
   "metadata": {
    "scrolled": true
   },
   "outputs": [
    {
     "name": "stdout",
     "output_type": "stream",
     "text": [
      "Error = 33422.549196514825\n",
      "Mean Absolute Error = 276.21941484723\n"
     ]
    }
   ],
   "source": [
    "e = sum(abs(y - y_hat))\n",
    "\n",
    "print(f'Error = {e}\\nMean Absolute Error = {e / n}')"
   ]
  },
  {
   "cell_type": "markdown",
   "metadata": {},
   "source": [
    "### Коефіціент кореляції (і порівняння з методом pd.corr(pd) )"
   ]
  },
  {
   "cell_type": "code",
   "execution_count": 16,
   "metadata": {},
   "outputs": [
    {
     "name": "stdout",
     "output_type": "stream",
     "text": [
      "Вручну\t\t\t\t|\tЗа допомогою вбудованого методу\n",
      "---------------------------------------------------------------------------\n",
      "r(x, y) = 0.7818203078414967\t|\tx.corr(y) = 0.7818203078414967\n"
     ]
    }
   ],
   "source": [
    "r = cov / ((x_var * y_var) ** 0.5)\n",
    "print(f'Вручну\\t\\t\\t\\t|\\tЗа допомогою вбудованого методу\\n' +\n",
    "      '-' * 75 + '\\n' +\n",
    "      f'r(x, y) = {r}\\t|\\tx.corr(y) = {x.corr(y)}')"
   ]
  },
  {
   "cell_type": "markdown",
   "metadata": {},
   "source": [
    "### Варіація Y^ (і порівняння з методом pd.var() )"
   ]
  },
  {
   "cell_type": "code",
   "execution_count": 17,
   "metadata": {
    "scrolled": true
   },
   "outputs": [
    {
     "name": "stdout",
     "output_type": "stream",
     "text": [
      "Вручну\t\t\t\t|\tЗа допомогою вбудованого методу\n",
      "---------------------------------------------------------------------------\n",
      "Var(Y^) = 259611.79344552074\t|\ty_hat.var() = 261775.22505756674\n"
     ]
    }
   ],
   "source": [
    "y_hat_var = sum((y_hat - y_hat.mean()) ** 2) / n\n",
    "\n",
    "print(f'Вручну\\t\\t\\t\\t|\\tЗа допомогою вбудованого методу\\n' +\n",
    "      '-' * 75 + '\\n' +\n",
    "      f'Var(Y^) = {y_hat_var}\\t|\\ty_hat.var() = {y_hat.var()}')"
   ]
  },
  {
   "cell_type": "markdown",
   "metadata": {},
   "source": [
    "### R^2 ( і перевірка зі знайдениім значенням)"
   ]
  },
  {
   "cell_type": "code",
   "execution_count": 18,
   "metadata": {},
   "outputs": [
    {
     "name": "stdout",
     "output_type": "stream",
     "text": [
      "Var(Y^) / Var(Y) = 0.6112429937533724\n",
      "R^2 = 0.6112429937533727\n"
     ]
    }
   ],
   "source": [
    "r_hat_2 = y_hat_var / y_var\n",
    "\n",
    "print(f'Var(Y^) / Var(Y) = {r_hat_2}\\n'\n",
    "      f'R^2 = {r ** 2}')"
   ]
  },
  {
   "cell_type": "markdown",
   "metadata": {},
   "source": [
    "## Візуалізація "
   ]
  },
  {
   "cell_type": "code",
   "execution_count": 19,
   "metadata": {},
   "outputs": [
    {
     "data": {
      "text/plain": [
       "Text(0, 0.5, 'S&P 500')"
      ]
     },
     "execution_count": 19,
     "metadata": {},
     "output_type": "execute_result"
    },
    {
     "data": {
      "image/png": "[encoded data removed]",
      "text/plain": [
       "<Figure size 864x432 with 1 Axes>"
      ]
     },
     "metadata": {
      "needs_background": "light"
     },
     "output_type": "display_data"
    }
   ],
   "source": [
    "plt.figure(figsize=(12, 6))\n",
    "plt.scatter(x, y)\n",
    "plt.plot(x, y_hat, color='C3')\n",
    "plt.xlabel('Boeing')\n",
    "plt.ylabel('S&P 500')"
   ]
  },
  {
   "cell_type": "markdown",
   "metadata": {},
   "source": [
    "# За допомогою бібліотеки numpy"
   ]
  },
  {
   "cell_type": "code",
   "execution_count": 20,
   "metadata": {},
   "outputs": [
    {
     "data": {
      "text/plain": [
       "411.2598314416951"
      ]
     },
     "execution_count": 20,
     "metadata": {},
     "output_type": "execute_result"
    }
   ],
   "source": [
    "xn = np.linspace(x.min(), x.max(), len(x))\n",
    "poly = np.polyfit(x, y, 1)\n",
    "yn = np.polyval(poly, xn)\n",
    "(y.max() * .9 - poly[1]) / poly[0]"
   ]
  },
  {
   "cell_type": "markdown",
   "metadata": {},
   "source": [
    "## Візуалізація"
   ]
  },
  {
   "cell_type": "code",
   "execution_count": 21,
   "metadata": {
    "scrolled": false
   },
   "outputs": [
    {
     "data": {
      "text/plain": [
       "Text(0, 0.5, 'S&P 500')"
      ]
     },
     "execution_count": 21,
     "metadata": {},
     "output_type": "execute_result"
    },
    {
     "data": {
      "image/png": "[encoded data removed]",
      "text/plain": [
       "<Figure size 864x432 with 1 Axes>"
      ]
     },
     "metadata": {
      "needs_background": "light"
     },
     "output_type": "display_data"
    }
   ],
   "source": [
    "plt.figure(figsize=(12, 6))\n",
    "plt.scatter(x, y)\n",
    "plt.plot(xn, yn, color='C3')\n",
    "plt.xlabel('Boeing')\n",
    "plt.ylabel('S&P 500')"
   ]
  },
  {
   "cell_type": "markdown",
   "metadata": {},
   "source": [
    "## Висновки:\n",
    "#### a. a = 1386.0118530887196, b = 4.902639566329808.<br/>\n",
    "#### b. Економічна модель Y^ = a + bx є неточною, але гарно показує тенденції та залежність вартості Boeing від загальної ціни ринку (S&P 500).<br/>\n",
    "#### c. Згідно з побудованою економічною моделлю, y = a + bx ~ 1386 + 4.9 * x, а отже при зміні x на n одиниць, y зміниться на ~ 4.9 * n одиниць.<br/>\n",
    "#### d. Згідно з побудованою економічною моделлю, y = a + bx => x = (y - a) / b = (y / b) - (a / b) ~ (y / 4.9) - (1386 / 4.9) ~ (y / 4.9) - 282. Якщо ринок зросте на 10%, то ціна Boeing зросте на ~ 0.1 / 4.9 = 1/49 від своєї вартості, і коли ринок спаде на 10%, то ціна Boeing спаде на 1/49 від своєї вартості. Здійснимо прогноз,якщо ринок зросте на 10% від максимального значення:"
   ]
  },
  {
   "cell_type": "code",
   "execution_count": 22,
   "metadata": {
    "scrolled": true
   },
   "outputs": [
    {
     "name": "stdout",
     "output_type": "stream",
     "text": [
      "Якщо ринок зросте на 10% від максимального значення (3778.489990234375), то Boeing очікувано буде коштувати 565.5961753358325\n"
     ]
    }
   ],
   "source": [
    "prediction = (y.max() * 1.1 - a) / b\n",
    "print(f'Якщо ринок зросте на 10% від максимального значення ({y.max()}), то Boeing очікувано буде коштувати {prediction}')"
   ]
  }
 ],
 "metadata": {
  "kernelspec": {
   "display_name": "Python 3",
   "language": "python",
   "name": "python3"
  },
  "language_info": {
   "codemirror_mode": {
    "name": "ipython",
    "version": 3
   },
   "file_extension": ".py",
   "mimetype": "text/x-python",
   "name": "python",
   "nbconvert_exporter": "python",
   "pygments_lexer": "ipython3",
   "version": "3.8.5"
  }
 },
 "nbformat": 4,
 "nbformat_minor": 4
}
